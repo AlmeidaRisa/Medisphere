{
 "cells": [
  {
   "cell_type": "code",
   "execution_count": 58,
   "id": "2fcfd281",
   "metadata": {},
   "outputs": [],
   "source": [
    "import pandas as pd\n",
    "from sklearn.model_selection import train_test_split\n",
    "from sklearn.linear_model import LogisticRegression\n",
    "from sklearn.metrics import accuracy_score, classification_report, confusion_matrix"
   ]
  },
  {
   "cell_type": "code",
   "execution_count": 59,
   "id": "0dfd0bf3",
   "metadata": {},
   "outputs": [],
   "source": [
    "import matplotlib.pyplot as plt\n",
    "import seaborn as sns\n",
    "from sklearn.preprocessing import LabelEncoder"
   ]
  },
  {
   "cell_type": "code",
   "execution_count": 60,
   "id": "f61c7e1e",
   "metadata": {},
   "outputs": [],
   "source": [
    "data=pd.read_csv(\"hospitalopti.csv\")"
   ]
  },
  {
   "cell_type": "code",
   "execution_count": 61,
   "id": "a7a3b465",
   "metadata": {},
   "outputs": [
    {
     "data": {
      "text/html": [
       "<div>\n",
       "<style scoped>\n",
       "    .dataframe tbody tr th:only-of-type {\n",
       "        vertical-align: middle;\n",
       "    }\n",
       "\n",
       "    .dataframe tbody tr th {\n",
       "        vertical-align: top;\n",
       "    }\n",
       "\n",
       "    .dataframe thead th {\n",
       "        text-align: right;\n",
       "    }\n",
       "</style>\n",
       "<table border=\"1\" class=\"dataframe\">\n",
       "  <thead>\n",
       "    <tr style=\"text-align: right;\">\n",
       "      <th></th>\n",
       "      <th>SNO</th>\n",
       "      <th>D.O.A</th>\n",
       "      <th>AGE</th>\n",
       "      <th>GENDER</th>\n",
       "      <th>RURAL</th>\n",
       "      <th>TYPE OF ADMISSION-EMERGENCY/OPD</th>\n",
       "      <th>DURATION OF STAY</th>\n",
       "      <th>OUTCOME</th>\n",
       "      <th>SEVERE ANAEMIA</th>\n",
       "      <th>ATYPICAL CHEST PAIN</th>\n",
       "      <th>HEART FAILURE</th>\n",
       "      <th>UTI</th>\n",
       "      <th>NEURO CARDIOGENIC SYNCOPE</th>\n",
       "      <th>ORTHOSTATIC</th>\n",
       "      <th>CARDIOGENIC SHOCK</th>\n",
       "      <th>PULMONARY EMBOLISM</th>\n",
       "    </tr>\n",
       "  </thead>\n",
       "  <tbody>\n",
       "    <tr>\n",
       "      <th>0</th>\n",
       "      <td>1</td>\n",
       "      <td>04-01-2021</td>\n",
       "      <td>81</td>\n",
       "      <td>M</td>\n",
       "      <td>R</td>\n",
       "      <td>E</td>\n",
       "      <td>3</td>\n",
       "      <td>DISCHARGE</td>\n",
       "      <td>1</td>\n",
       "      <td>1</td>\n",
       "      <td>0</td>\n",
       "      <td>1</td>\n",
       "      <td>1</td>\n",
       "      <td>1</td>\n",
       "      <td>1</td>\n",
       "      <td>1</td>\n",
       "    </tr>\n",
       "    <tr>\n",
       "      <th>1</th>\n",
       "      <td>2</td>\n",
       "      <td>04-01-2021</td>\n",
       "      <td>65</td>\n",
       "      <td>M</td>\n",
       "      <td>R</td>\n",
       "      <td>E</td>\n",
       "      <td>5</td>\n",
       "      <td>DISCHARGE</td>\n",
       "      <td>1</td>\n",
       "      <td>1</td>\n",
       "      <td>1</td>\n",
       "      <td>1</td>\n",
       "      <td>1</td>\n",
       "      <td>1</td>\n",
       "      <td>1</td>\n",
       "      <td>1</td>\n",
       "    </tr>\n",
       "    <tr>\n",
       "      <th>2</th>\n",
       "      <td>3</td>\n",
       "      <td>04-01-2021</td>\n",
       "      <td>53</td>\n",
       "      <td>M</td>\n",
       "      <td>U</td>\n",
       "      <td>E</td>\n",
       "      <td>3</td>\n",
       "      <td>DISCHARGE</td>\n",
       "      <td>1</td>\n",
       "      <td>1</td>\n",
       "      <td>0</td>\n",
       "      <td>1</td>\n",
       "      <td>1</td>\n",
       "      <td>1</td>\n",
       "      <td>1</td>\n",
       "      <td>1</td>\n",
       "    </tr>\n",
       "    <tr>\n",
       "      <th>3</th>\n",
       "      <td>4</td>\n",
       "      <td>04-01-2021</td>\n",
       "      <td>67</td>\n",
       "      <td>F</td>\n",
       "      <td>U</td>\n",
       "      <td>E</td>\n",
       "      <td>8</td>\n",
       "      <td>DISCHARGE</td>\n",
       "      <td>1</td>\n",
       "      <td>1</td>\n",
       "      <td>1</td>\n",
       "      <td>1</td>\n",
       "      <td>1</td>\n",
       "      <td>1</td>\n",
       "      <td>1</td>\n",
       "      <td>1</td>\n",
       "    </tr>\n",
       "    <tr>\n",
       "      <th>4</th>\n",
       "      <td>5</td>\n",
       "      <td>04-01-2021</td>\n",
       "      <td>60</td>\n",
       "      <td>F</td>\n",
       "      <td>U</td>\n",
       "      <td>E</td>\n",
       "      <td>21</td>\n",
       "      <td>DISCHARGE</td>\n",
       "      <td>1</td>\n",
       "      <td>1</td>\n",
       "      <td>1</td>\n",
       "      <td>1</td>\n",
       "      <td>1</td>\n",
       "      <td>1</td>\n",
       "      <td>1</td>\n",
       "      <td>1</td>\n",
       "    </tr>\n",
       "  </tbody>\n",
       "</table>\n",
       "</div>"
      ],
      "text/plain": [
       "   SNO       D.O.A  AGE GENDER RURAL TYPE OF ADMISSION-EMERGENCY/OPD   \n",
       "0    1  04-01-2021   81      M     R                               E  \\\n",
       "1    2  04-01-2021   65      M     R                               E   \n",
       "2    3  04-01-2021   53      M     U                               E   \n",
       "3    4  04-01-2021   67      F     U                               E   \n",
       "4    5  04-01-2021   60      F     U                               E   \n",
       "\n",
       "   DURATION OF STAY    OUTCOME  SEVERE ANAEMIA  ATYPICAL CHEST PAIN   \n",
       "0                 3  DISCHARGE               1                    1  \\\n",
       "1                 5  DISCHARGE               1                    1   \n",
       "2                 3  DISCHARGE               1                    1   \n",
       "3                 8  DISCHARGE               1                    1   \n",
       "4                21  DISCHARGE               1                    1   \n",
       "\n",
       "   HEART FAILURE  UTI  NEURO CARDIOGENIC SYNCOPE  ORTHOSTATIC   \n",
       "0              0    1                          1            1  \\\n",
       "1              1    1                          1            1   \n",
       "2              0    1                          1            1   \n",
       "3              1    1                          1            1   \n",
       "4              1    1                          1            1   \n",
       "\n",
       "   CARDIOGENIC SHOCK  PULMONARY EMBOLISM  \n",
       "0                  1                   1  \n",
       "1                  1                   1  \n",
       "2                  1                   1  \n",
       "3                  1                   1  \n",
       "4                  1                   1  "
      ]
     },
     "execution_count": 61,
     "metadata": {},
     "output_type": "execute_result"
    }
   ],
   "source": [
    "data.head()"
   ]
  },
  {
   "cell_type": "code",
   "execution_count": 62,
   "id": "1407aedd",
   "metadata": {},
   "outputs": [
    {
     "name": "stdout",
     "output_type": "stream",
     "text": [
      "<class 'pandas.core.frame.DataFrame'>\n",
      "RangeIndex: 15741 entries, 0 to 15740\n",
      "Data columns (total 16 columns):\n",
      " #   Column                           Non-Null Count  Dtype \n",
      "---  ------                           --------------  ----- \n",
      " 0   SNO                              15741 non-null  int64 \n",
      " 1   D.O.A                            15741 non-null  object\n",
      " 2   AGE                              15741 non-null  int64 \n",
      " 3   GENDER                           15741 non-null  object\n",
      " 4   RURAL                            15741 non-null  object\n",
      " 5   TYPE OF ADMISSION-EMERGENCY/OPD  15741 non-null  object\n",
      " 6   DURATION OF STAY                 15741 non-null  int64 \n",
      " 7   OUTCOME                          15741 non-null  object\n",
      " 8   SEVERE ANAEMIA                   15741 non-null  int64 \n",
      " 9   ATYPICAL CHEST PAIN              15741 non-null  int64 \n",
      " 10  HEART FAILURE                    15741 non-null  int64 \n",
      " 11  UTI                              15741 non-null  int64 \n",
      " 12  NEURO CARDIOGENIC SYNCOPE        15741 non-null  int64 \n",
      " 13  ORTHOSTATIC                      15741 non-null  int64 \n",
      " 14  CARDIOGENIC SHOCK                15741 non-null  int64 \n",
      " 15  PULMONARY EMBOLISM               15741 non-null  int64 \n",
      "dtypes: int64(11), object(5)\n",
      "memory usage: 1.9+ MB\n"
     ]
    }
   ],
   "source": [
    "data.info()"
   ]
  },
  {
   "cell_type": "code",
   "execution_count": 65,
   "id": "949bb87a",
   "metadata": {},
   "outputs": [],
   "source": [
    "categorical_columns = ['D.O.A','GENDER','RURAL','TYPE OF ADMISSION-EMERGENCY/OPD','DURATION OF STAY','OUTCOME']\n"
   ]
  },
  {
   "cell_type": "code",
   "execution_count": 66,
   "id": "e8180471",
   "metadata": {},
   "outputs": [],
   "source": [
    "data = pd.get_dummies(data, columns=categorical_columns, drop_first=True)"
   ]
  },
  {
   "cell_type": "code",
   "execution_count": 67,
   "id": "5058087e",
   "metadata": {},
   "outputs": [],
   "source": [
    "data.to_csv(\"preprocessed_dataset2.csv\", index=False)"
   ]
  },
  {
   "cell_type": "code",
   "execution_count": 68,
   "id": "8003a3ce",
   "metadata": {},
   "outputs": [
    {
     "name": "stdout",
     "output_type": "stream",
     "text": [
      "   SNO  AGE  SEVERE ANAEMIA  ATYPICAL CHEST PAIN  HEART FAILURE  UTI   \n",
      "0    1   81               1                    1              0    1  \\\n",
      "1    2   65               1                    1              1    1   \n",
      "2    3   53               1                    1              0    1   \n",
      "3    4   67               1                    1              1    1   \n",
      "4    5   60               1                    1              1    1   \n",
      "\n",
      "   NEURO CARDIOGENIC SYNCOPE  ORTHOSTATIC  CARDIOGENIC SHOCK   \n",
      "0                          1            1                  1  \\\n",
      "1                          1            1                  1   \n",
      "2                          1            1                  1   \n",
      "3                          1            1                  1   \n",
      "4                          1            1                  1   \n",
      "\n",
      "   PULMONARY EMBOLISM  ...  DURATION OF STAY_48  DURATION OF STAY_49   \n",
      "0                   1  ...                False                False  \\\n",
      "1                   1  ...                False                False   \n",
      "2                   1  ...                False                False   \n",
      "3                   1  ...                False                False   \n",
      "4                   1  ...                False                False   \n",
      "\n",
      "   DURATION OF STAY_50  DURATION OF STAY_52  DURATION OF STAY_53   \n",
      "0                False                False                False  \\\n",
      "1                False                False                False   \n",
      "2                False                False                False   \n",
      "3                False                False                False   \n",
      "4                False                False                False   \n",
      "\n",
      "   DURATION OF STAY_58  DURATION OF STAY_67  DURATION OF STAY_98   \n",
      "0                False                False                False  \\\n",
      "1                False                False                False   \n",
      "2                False                False                False   \n",
      "3                False                False                False   \n",
      "4                False                False                False   \n",
      "\n",
      "   OUTCOME_DISCHARGE  OUTCOME_EXPIRY  \n",
      "0               True           False  \n",
      "1               True           False  \n",
      "2               True           False  \n",
      "3               True           False  \n",
      "4               True           False  \n",
      "\n",
      "[5 rows x 1007 columns]\n"
     ]
    }
   ],
   "source": [
    "print(data.head())"
   ]
  },
  {
   "cell_type": "code",
   "execution_count": 69,
   "id": "668dacf0",
   "metadata": {},
   "outputs": [],
   "source": [
    "import pandas as pd\n",
    "from sklearn.model_selection import train_test_split\n",
    "from sklearn.linear_model import LogisticRegression\n",
    "from sklearn.metrics import accuracy_score, classification_report, confusion_matrix"
   ]
  },
  {
   "cell_type": "code",
   "execution_count": 73,
   "id": "fbb5169e",
   "metadata": {},
   "outputs": [],
   "source": [
    "data = pd.read_csv(\"preprocessed_dataset2.csv\")"
   ]
  },
  {
   "cell_type": "code",
   "execution_count": 74,
   "id": "e4c28399",
   "metadata": {},
   "outputs": [],
   "source": [
    "X = data.drop(\"OUTCOME_DISCHARGE\", axis=1)  # Replace \"TARGET_COLUMN\" with the name of your target variable\n",
    "y = data[\"OUTCOME_DISCHARGE\"]"
   ]
  },
  {
   "cell_type": "code",
   "execution_count": 75,
   "id": "91c7efd4",
   "metadata": {},
   "outputs": [],
   "source": [
    "X_train, X_test, y_train, y_test = train_test_split(X, y, test_size=0.2, random_state=42)"
   ]
  },
  {
   "cell_type": "code",
   "execution_count": 76,
   "id": "2ba025bc",
   "metadata": {},
   "outputs": [],
   "source": [
    "model = LogisticRegression()"
   ]
  },
  {
   "cell_type": "code",
   "execution_count": 77,
   "id": "01f0e748",
   "metadata": {},
   "outputs": [
    {
     "data": {
      "text/html": [
       "<style>#sk-container-id-1 {color: black;}#sk-container-id-1 pre{padding: 0;}#sk-container-id-1 div.sk-toggleable {background-color: white;}#sk-container-id-1 label.sk-toggleable__label {cursor: pointer;display: block;width: 100%;margin-bottom: 0;padding: 0.3em;box-sizing: border-box;text-align: center;}#sk-container-id-1 label.sk-toggleable__label-arrow:before {content: \"▸\";float: left;margin-right: 0.25em;color: #696969;}#sk-container-id-1 label.sk-toggleable__label-arrow:hover:before {color: black;}#sk-container-id-1 div.sk-estimator:hover label.sk-toggleable__label-arrow:before {color: black;}#sk-container-id-1 div.sk-toggleable__content {max-height: 0;max-width: 0;overflow: hidden;text-align: left;background-color: #f0f8ff;}#sk-container-id-1 div.sk-toggleable__content pre {margin: 0.2em;color: black;border-radius: 0.25em;background-color: #f0f8ff;}#sk-container-id-1 input.sk-toggleable__control:checked~div.sk-toggleable__content {max-height: 200px;max-width: 100%;overflow: auto;}#sk-container-id-1 input.sk-toggleable__control:checked~label.sk-toggleable__label-arrow:before {content: \"▾\";}#sk-container-id-1 div.sk-estimator input.sk-toggleable__control:checked~label.sk-toggleable__label {background-color: #d4ebff;}#sk-container-id-1 div.sk-label input.sk-toggleable__control:checked~label.sk-toggleable__label {background-color: #d4ebff;}#sk-container-id-1 input.sk-hidden--visually {border: 0;clip: rect(1px 1px 1px 1px);clip: rect(1px, 1px, 1px, 1px);height: 1px;margin: -1px;overflow: hidden;padding: 0;position: absolute;width: 1px;}#sk-container-id-1 div.sk-estimator {font-family: monospace;background-color: #f0f8ff;border: 1px dotted black;border-radius: 0.25em;box-sizing: border-box;margin-bottom: 0.5em;}#sk-container-id-1 div.sk-estimator:hover {background-color: #d4ebff;}#sk-container-id-1 div.sk-parallel-item::after {content: \"\";width: 100%;border-bottom: 1px solid gray;flex-grow: 1;}#sk-container-id-1 div.sk-label:hover label.sk-toggleable__label {background-color: #d4ebff;}#sk-container-id-1 div.sk-serial::before {content: \"\";position: absolute;border-left: 1px solid gray;box-sizing: border-box;top: 0;bottom: 0;left: 50%;z-index: 0;}#sk-container-id-1 div.sk-serial {display: flex;flex-direction: column;align-items: center;background-color: white;padding-right: 0.2em;padding-left: 0.2em;position: relative;}#sk-container-id-1 div.sk-item {position: relative;z-index: 1;}#sk-container-id-1 div.sk-parallel {display: flex;align-items: stretch;justify-content: center;background-color: white;position: relative;}#sk-container-id-1 div.sk-item::before, #sk-container-id-1 div.sk-parallel-item::before {content: \"\";position: absolute;border-left: 1px solid gray;box-sizing: border-box;top: 0;bottom: 0;left: 50%;z-index: -1;}#sk-container-id-1 div.sk-parallel-item {display: flex;flex-direction: column;z-index: 1;position: relative;background-color: white;}#sk-container-id-1 div.sk-parallel-item:first-child::after {align-self: flex-end;width: 50%;}#sk-container-id-1 div.sk-parallel-item:last-child::after {align-self: flex-start;width: 50%;}#sk-container-id-1 div.sk-parallel-item:only-child::after {width: 0;}#sk-container-id-1 div.sk-dashed-wrapped {border: 1px dashed gray;margin: 0 0.4em 0.5em 0.4em;box-sizing: border-box;padding-bottom: 0.4em;background-color: white;}#sk-container-id-1 div.sk-label label {font-family: monospace;font-weight: bold;display: inline-block;line-height: 1.2em;}#sk-container-id-1 div.sk-label-container {text-align: center;}#sk-container-id-1 div.sk-container {/* jupyter's `normalize.less` sets `[hidden] { display: none; }` but bootstrap.min.css set `[hidden] { display: none !important; }` so we also need the `!important` here to be able to override the default hidden behavior on the sphinx rendered scikit-learn.org. See: https://github.com/scikit-learn/scikit-learn/issues/21755 */display: inline-block !important;position: relative;}#sk-container-id-1 div.sk-text-repr-fallback {display: none;}</style><div id=\"sk-container-id-1\" class=\"sk-top-container\"><div class=\"sk-text-repr-fallback\"><pre>LogisticRegression()</pre><b>In a Jupyter environment, please rerun this cell to show the HTML representation or trust the notebook. <br />On GitHub, the HTML representation is unable to render, please try loading this page with nbviewer.org.</b></div><div class=\"sk-container\" hidden><div class=\"sk-item\"><div class=\"sk-estimator sk-toggleable\"><input class=\"sk-toggleable__control sk-hidden--visually\" id=\"sk-estimator-id-1\" type=\"checkbox\" checked><label for=\"sk-estimator-id-1\" class=\"sk-toggleable__label sk-toggleable__label-arrow\">LogisticRegression</label><div class=\"sk-toggleable__content\"><pre>LogisticRegression()</pre></div></div></div></div></div>"
      ],
      "text/plain": [
       "LogisticRegression()"
      ]
     },
     "execution_count": 77,
     "metadata": {},
     "output_type": "execute_result"
    }
   ],
   "source": [
    "model.fit(X_train, y_train)"
   ]
  },
  {
   "cell_type": "code",
   "execution_count": 78,
   "id": "a9fa982c",
   "metadata": {},
   "outputs": [],
   "source": [
    "y_pred = model.predict(X_test)"
   ]
  },
  {
   "cell_type": "code",
   "execution_count": 79,
   "id": "83a7cae0",
   "metadata": {},
   "outputs": [
    {
     "name": "stdout",
     "output_type": "stream",
     "text": [
      "Accuracy: 0.9422038742457923\n",
      "\n",
      "Classification Report:\n",
      "               precision    recall  f1-score   support\n",
      "\n",
      "       False       0.99      0.59      0.74       436\n",
      "        True       0.94      1.00      0.97      2713\n",
      "\n",
      "    accuracy                           0.94      3149\n",
      "   macro avg       0.96      0.79      0.85      3149\n",
      "weighted avg       0.95      0.94      0.94      3149\n",
      "\n",
      "\n",
      "Confusion Matrix:\n",
      " [[ 257  179]\n",
      " [   3 2710]]\n"
     ]
    }
   ],
   "source": [
    "accuracy = accuracy_score(y_test, y_pred)\n",
    "print(\"Accuracy:\", accuracy)\n",
    "print(\"\\nClassification Report:\\n\", classification_report(y_test, y_pred))\n",
    "print(\"\\nConfusion Matrix:\\n\", confusion_matrix(y_test, y_pred))"
   ]
  },
  {
   "cell_type": "code",
   "execution_count": 80,
   "id": "1a8769e8",
   "metadata": {},
   "outputs": [
    {
     "data": {
      "image/png": "[encoded data removed]",
      "text/plain": [
       "<Figure size 600x400 with 1 Axes>"
      ]
     },
     "metadata": {},
     "output_type": "display_data"
    }
   ],
   "source": [
    "plt.figure(figsize=(6,4))\n",
    "sns.heatmap(confusion_matrix(y_test, y_pred), annot=True, fmt='d', cmap='Blues', cbar=False)\n",
    "plt.xlabel('Predicted')\n",
    "plt.ylabel('Actual')\n",
    "plt.title('Confusion Matrix')\n",
    "plt.show()"
   ]
  },
  {
   "cell_type": "code",
   "execution_count": 81,
   "id": "05fa2a31",
   "metadata": {},
   "outputs": [
    {
     "data": {
      "image/png": "[encoded data removed]",
      "text/plain": [
       "<Figure size 600x400 with 1 Axes>"
      ]
     },
     "metadata": {},
     "output_type": "display_data"
    }
   ],
   "source": [
    "from sklearn.metrics import roc_curve, roc_auc_score\n",
    "\n",
    "y_prob = model.predict_proba(X_test)[:, 1]\n",
    "fpr, tpr, thresholds = roc_curve(y_test, y_prob)\n",
    "\n",
    "plt.figure(figsize=(6,4))\n",
    "plt.plot(fpr, tpr, color='darkorange', lw=2)\n",
    "plt.plot([0, 1], [0, 1], color='navy', lw=2, linestyle='--')\n",
    "plt.xlim([0.0, 1.0])\n",
    "plt.ylim([0.0, 1.05])\n",
    "plt.xlabel('False Positive Rate')\n",
    "plt.ylabel('True Positive Rate')\n",
    "plt.title('Receiver Operating Characteristic (ROC) Curve')\n",
    "plt.show()"
   ]
  },
  {
   "cell_type": "code",
   "execution_count": null,
   "id": "2fff57e4",
   "metadata": {},
   "outputs": [],
   "source": []
  }
 ],
 "metadata": {
  "kernelspec": {
   "display_name": "Python 3 (ipykernel)",
   "language": "python",
   "name": "python3"
  },
  "language_info": {
   "codemirror_mode": {
    "name": "ipython",
    "version": 3
   },
   "file_extension": ".py",
   "mimetype": "text/x-python",
   "name": "python",
   "nbconvert_exporter": "python",
   "pygments_lexer": "ipython3",
   "version": "3.9.13"
  }
 },
 "nbformat": 4,
 "nbformat_minor": 5
}
